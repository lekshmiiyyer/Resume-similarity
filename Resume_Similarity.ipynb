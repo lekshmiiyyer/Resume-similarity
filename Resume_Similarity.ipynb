{
  "nbformat": 4,
  "nbformat_minor": 0,
  "metadata": {
    "colab": {
      "provenance": [],
      "authorship_tag": "ABX9TyPfzlVll1BGRLHIexbSxVl5",
      "include_colab_link": true
    },
    "kernelspec": {
      "name": "python3",
      "display_name": "Python 3"
    },
    "language_info": {
      "name": "python"
    }
  },
  "cells": [
    {
      "cell_type": "markdown",
      "metadata": {
        "id": "view-in-github",
        "colab_type": "text"
      },
      "source": [
        "<a href=\"https://colab.research.google.com/github/lekshmiiyyer/Resume-similarity/blob/main/Resume_Similarity.ipynb\" target=\"_parent\"><img src=\"https://colab.research.google.com/assets/colab-badge.svg\" alt=\"Open In Colab\"/></a>"
      ]
    },
    {
      "cell_type": "markdown",
      "source": [
        "HOW similar resume is to the job desc"
      ],
      "metadata": {
        "id": "VvmLyF4O6G_L"
      }
    },
    {
      "cell_type": "code",
      "execution_count": null,
      "metadata": {
        "colab": {
          "base_uri": "https://localhost:8080/"
        },
        "id": "8JQhnDsZ5_FF",
        "outputId": "22501de8-76a5-4500-ee94-8e300eff148d"
      },
      "outputs": [
        {
          "output_type": "stream",
          "name": "stdout",
          "text": [
            "Collecting docx2txt\n",
            "  Downloading docx2txt-0.8.tar.gz (2.8 kB)\n",
            "  Preparing metadata (setup.py) ... \u001b[?25l\u001b[?25hdone\n",
            "Building wheels for collected packages: docx2txt\n",
            "  Building wheel for docx2txt (setup.py) ... \u001b[?25l\u001b[?25hdone\n",
            "  Created wheel for docx2txt: filename=docx2txt-0.8-py3-none-any.whl size=3960 sha256=7b70ab11e33f755d7481493dfad38f995cd9caed792d52592a437118a7e060c9\n",
            "  Stored in directory: /root/.cache/pip/wheels/22/58/cf/093d0a6c3ecfdfc5f6ddd5524043b88e59a9a199cb02352966\n",
            "Successfully built docx2txt\n",
            "Installing collected packages: docx2txt\n",
            "Successfully installed docx2txt-0.8\n"
          ]
        }
      ],
      "source": [
        "pip install docx2txt"
      ]
    },
    {
      "cell_type": "code",
      "source": [
        "import docx2txt"
      ],
      "metadata": {
        "id": "mRbNt8xP6TlO"
      },
      "execution_count": null,
      "outputs": []
    },
    {
      "cell_type": "code",
      "source": [
        "from google.colab import files\n",
        "uploaded=files.upload()"
      ],
      "metadata": {
        "colab": {
          "base_uri": "https://localhost:8080/",
          "height": 108
        },
        "id": "U8-sMbl26ZAo",
        "outputId": "9c25ad95-b69c-454c-cf09-18c5346f1657"
      },
      "execution_count": null,
      "outputs": [
        {
          "output_type": "display_data",
          "data": {
            "text/plain": [
              "<IPython.core.display.HTML object>"
            ],
            "text/html": [
              "\n",
              "     <input type=\"file\" id=\"files-183acf13-48e3-4462-a7f8-4831bb1ee072\" name=\"files[]\" multiple disabled\n",
              "        style=\"border:none\" />\n",
              "     <output id=\"result-183acf13-48e3-4462-a7f8-4831bb1ee072\">\n",
              "      Upload widget is only available when the cell has been executed in the\n",
              "      current browser session. Please rerun this cell to enable.\n",
              "      </output>\n",
              "      <script>// Copyright 2017 Google LLC\n",
              "//\n",
              "// Licensed under the Apache License, Version 2.0 (the \"License\");\n",
              "// you may not use this file except in compliance with the License.\n",
              "// You may obtain a copy of the License at\n",
              "//\n",
              "//      http://www.apache.org/licenses/LICENSE-2.0\n",
              "//\n",
              "// Unless required by applicable law or agreed to in writing, software\n",
              "// distributed under the License is distributed on an \"AS IS\" BASIS,\n",
              "// WITHOUT WARRANTIES OR CONDITIONS OF ANY KIND, either express or implied.\n",
              "// See the License for the specific language governing permissions and\n",
              "// limitations under the License.\n",
              "\n",
              "/**\n",
              " * @fileoverview Helpers for google.colab Python module.\n",
              " */\n",
              "(function(scope) {\n",
              "function span(text, styleAttributes = {}) {\n",
              "  const element = document.createElement('span');\n",
              "  element.textContent = text;\n",
              "  for (const key of Object.keys(styleAttributes)) {\n",
              "    element.style[key] = styleAttributes[key];\n",
              "  }\n",
              "  return element;\n",
              "}\n",
              "\n",
              "// Max number of bytes which will be uploaded at a time.\n",
              "const MAX_PAYLOAD_SIZE = 100 * 1024;\n",
              "\n",
              "function _uploadFiles(inputId, outputId) {\n",
              "  const steps = uploadFilesStep(inputId, outputId);\n",
              "  const outputElement = document.getElementById(outputId);\n",
              "  // Cache steps on the outputElement to make it available for the next call\n",
              "  // to uploadFilesContinue from Python.\n",
              "  outputElement.steps = steps;\n",
              "\n",
              "  return _uploadFilesContinue(outputId);\n",
              "}\n",
              "\n",
              "// This is roughly an async generator (not supported in the browser yet),\n",
              "// where there are multiple asynchronous steps and the Python side is going\n",
              "// to poll for completion of each step.\n",
              "// This uses a Promise to block the python side on completion of each step,\n",
              "// then passes the result of the previous step as the input to the next step.\n",
              "function _uploadFilesContinue(outputId) {\n",
              "  const outputElement = document.getElementById(outputId);\n",
              "  const steps = outputElement.steps;\n",
              "\n",
              "  const next = steps.next(outputElement.lastPromiseValue);\n",
              "  return Promise.resolve(next.value.promise).then((value) => {\n",
              "    // Cache the last promise value to make it available to the next\n",
              "    // step of the generator.\n",
              "    outputElement.lastPromiseValue = value;\n",
              "    return next.value.response;\n",
              "  });\n",
              "}\n",
              "\n",
              "/**\n",
              " * Generator function which is called between each async step of the upload\n",
              " * process.\n",
              " * @param {string} inputId Element ID of the input file picker element.\n",
              " * @param {string} outputId Element ID of the output display.\n",
              " * @return {!Iterable<!Object>} Iterable of next steps.\n",
              " */\n",
              "function* uploadFilesStep(inputId, outputId) {\n",
              "  const inputElement = document.getElementById(inputId);\n",
              "  inputElement.disabled = false;\n",
              "\n",
              "  const outputElement = document.getElementById(outputId);\n",
              "  outputElement.innerHTML = '';\n",
              "\n",
              "  const pickedPromise = new Promise((resolve) => {\n",
              "    inputElement.addEventListener('change', (e) => {\n",
              "      resolve(e.target.files);\n",
              "    });\n",
              "  });\n",
              "\n",
              "  const cancel = document.createElement('button');\n",
              "  inputElement.parentElement.appendChild(cancel);\n",
              "  cancel.textContent = 'Cancel upload';\n",
              "  const cancelPromise = new Promise((resolve) => {\n",
              "    cancel.onclick = () => {\n",
              "      resolve(null);\n",
              "    };\n",
              "  });\n",
              "\n",
              "  // Wait for the user to pick the files.\n",
              "  const files = yield {\n",
              "    promise: Promise.race([pickedPromise, cancelPromise]),\n",
              "    response: {\n",
              "      action: 'starting',\n",
              "    }\n",
              "  };\n",
              "\n",
              "  cancel.remove();\n",
              "\n",
              "  // Disable the input element since further picks are not allowed.\n",
              "  inputElement.disabled = true;\n",
              "\n",
              "  if (!files) {\n",
              "    return {\n",
              "      response: {\n",
              "        action: 'complete',\n",
              "      }\n",
              "    };\n",
              "  }\n",
              "\n",
              "  for (const file of files) {\n",
              "    const li = document.createElement('li');\n",
              "    li.append(span(file.name, {fontWeight: 'bold'}));\n",
              "    li.append(span(\n",
              "        `(${file.type || 'n/a'}) - ${file.size} bytes, ` +\n",
              "        `last modified: ${\n",
              "            file.lastModifiedDate ? file.lastModifiedDate.toLocaleDateString() :\n",
              "                                    'n/a'} - `));\n",
              "    const percent = span('0% done');\n",
              "    li.appendChild(percent);\n",
              "\n",
              "    outputElement.appendChild(li);\n",
              "\n",
              "    const fileDataPromise = new Promise((resolve) => {\n",
              "      const reader = new FileReader();\n",
              "      reader.onload = (e) => {\n",
              "        resolve(e.target.result);\n",
              "      };\n",
              "      reader.readAsArrayBuffer(file);\n",
              "    });\n",
              "    // Wait for the data to be ready.\n",
              "    let fileData = yield {\n",
              "      promise: fileDataPromise,\n",
              "      response: {\n",
              "        action: 'continue',\n",
              "      }\n",
              "    };\n",
              "\n",
              "    // Use a chunked sending to avoid message size limits. See b/62115660.\n",
              "    let position = 0;\n",
              "    do {\n",
              "      const length = Math.min(fileData.byteLength - position, MAX_PAYLOAD_SIZE);\n",
              "      const chunk = new Uint8Array(fileData, position, length);\n",
              "      position += length;\n",
              "\n",
              "      const base64 = btoa(String.fromCharCode.apply(null, chunk));\n",
              "      yield {\n",
              "        response: {\n",
              "          action: 'append',\n",
              "          file: file.name,\n",
              "          data: base64,\n",
              "        },\n",
              "      };\n",
              "\n",
              "      let percentDone = fileData.byteLength === 0 ?\n",
              "          100 :\n",
              "          Math.round((position / fileData.byteLength) * 100);\n",
              "      percent.textContent = `${percentDone}% done`;\n",
              "\n",
              "    } while (position < fileData.byteLength);\n",
              "  }\n",
              "\n",
              "  // All done.\n",
              "  yield {\n",
              "    response: {\n",
              "      action: 'complete',\n",
              "    }\n",
              "  };\n",
              "}\n",
              "\n",
              "scope.google = scope.google || {};\n",
              "scope.google.colab = scope.google.colab || {};\n",
              "scope.google.colab._files = {\n",
              "  _uploadFiles,\n",
              "  _uploadFilesContinue,\n",
              "};\n",
              "})(self);\n",
              "</script> "
            ]
          },
          "metadata": {}
        },
        {
          "output_type": "stream",
          "name": "stdout",
          "text": [
            "Saving Job Description.docx to Job Description (1).docx\n",
            "Saving liyaf.pdf to liyaf.pdf\n"
          ]
        }
      ]
    },
    {
      "cell_type": "code",
      "source": [
        "pip install PyPDF2"
      ],
      "metadata": {
        "colab": {
          "base_uri": "https://localhost:8080/"
        },
        "id": "B0kD1-Qv88US",
        "outputId": "08ac2590-4664-4e90-e19a-a0a7458bf810"
      },
      "execution_count": null,
      "outputs": [
        {
          "output_type": "stream",
          "name": "stdout",
          "text": [
            "Collecting PyPDF2\n",
            "  Downloading pypdf2-3.0.1-py3-none-any.whl (232 kB)\n",
            "\u001b[?25l     \u001b[90m━━━━━━━━━━━━━━━━━━━━━━━━━━━━━━━━━━━━━━━━\u001b[0m \u001b[32m0.0/232.6 kB\u001b[0m \u001b[31m?\u001b[0m eta \u001b[36m-:--:--\u001b[0m\r\u001b[2K     \u001b[91m━━━━━━━━━━━━━━━━━━━━━━━━\u001b[0m\u001b[91m╸\u001b[0m\u001b[90m━━━━━━━━━━━━━━━\u001b[0m \u001b[32m143.4/232.6 kB\u001b[0m \u001b[31m4.1 MB/s\u001b[0m eta \u001b[36m0:00:01\u001b[0m\r\u001b[2K     \u001b[90m━━━━━━━━━━━━━━━━━━━━━━━━━━━━━━━━━━━━━━━━\u001b[0m \u001b[32m232.6/232.6 kB\u001b[0m \u001b[31m4.0 MB/s\u001b[0m eta \u001b[36m0:00:00\u001b[0m\n",
            "\u001b[?25hInstalling collected packages: PyPDF2\n",
            "Successfully installed PyPDF2-3.0.1\n"
          ]
        }
      ]
    },
    {
      "cell_type": "code",
      "source": [
        "import PyPDF2\n",
        "\n",
        "# Open the PDF file\n",
        "with open(\"liyaf.pdf\", \"rb\") as f:\n",
        "    # Create a PDF reader object\n",
        "    reader = PyPDF2.PdfReader(f)\n",
        "\n",
        "    # Initialize an empty string to store the text\n",
        "    resume = \"\"\n",
        "\n",
        "    # Loop through each page and extract text\n",
        "    for page_num in range(len(reader.pages)):\n",
        "        page = reader.pages[page_num]\n",
        "        resume += page.extract_text()\n",
        "\n",
        "# Print the extracted text\n",
        "print(resume)\n"
      ],
      "metadata": {
        "colab": {
          "base_uri": "https://localhost:8080/"
        },
        "id": "-A7h0Iv17pf5",
        "outputId": "6f96b27b-c1d0-4797-9306-2f88033e2dfc"
      },
      "execution_count": null,
      "outputs": [
        {
          "output_type": "stream",
          "name": "stdout",
          "text": [
            "LIYAFRANCISfrancisliya03@gmail.com|9188395121Linkedin.com/in/liyafrancis03VrindavanRoad,Thrissur\n",
            "I’mcurrentlyinthird-yearpursuingB.TechinComputerSciencefromChristCollegeofEngineering,Irinjalakuda.WithastrongpassionforcodingIhavedevelopedmyproblemsolvingskills.\n",
            "SKILLS\n",
            "●Programminglanguages\n",
            "○C\n",
            "○C++\n",
            "○Python\n",
            "●WebDevelopment\n",
            "○HTML\n",
            "○CSS\n",
            "○React\n",
            "●SoftSkills\n",
            "○TeamPlayer\n",
            "○Problem-SolvingSkills\n",
            "PROJECTS,ENGAGEMENT S&RECOGNITION\n",
            "●ProjectWork:\n",
            "○IwaspartofagroupprojecttodevelopaquizAppwebsite.Mycontributionsincludedcreatingtheadminpageanditsbackend.\n",
            "●VolunteerWork:VolunteeredforIEDCduringTechFestconductedbyourcollege.\n",
            "●Leadership:ContentleadofCSIbodyinourcollegefortheyear2023-2024.\n",
            "EDUCATION\n",
            "B.Tech-ChristCollegeofEngineering,Kerala2021–2025\n",
            "ComputerScienceandEngineeringCGPA-8.95(tillS4)\n",
            "12thStateBoard–St.Joseph’sC.G.H.S.S,Kerala2020–2021\n",
            "ComputerSciencestream.Scored98%marks.\n",
            "10thCBSE–St.Paul’sPublicSchool,KeralaSecured95%marks.2019–2020\n",
            "Interests:Activelyparticipatedinartsandsportsactivities.\n"
          ]
        }
      ]
    },
    {
      "cell_type": "code",
      "source": [
        "job=docx2txt.process(\"Job Description.docx\")\n",
        "print(job)"
      ],
      "metadata": {
        "colab": {
          "base_uri": "https://localhost:8080/"
        },
        "id": "6r0_JLah9pzw",
        "outputId": "32fc7556-3a70-4755-cb5b-2b6a126a5683"
      },
      "execution_count": null,
      "outputs": [
        {
          "output_type": "stream",
          "name": "stdout",
          "text": [
            "About the job\n",
            "\n",
            "Titile - Python Backend Engineer\n",
            "\n",
            "Location - Onsite, Chennai\n",
            "\n",
            "Type - Contract to Hire\n",
            "\n",
            "\n",
            "\n",
            "\n",
            "Designing and implementing Python-based web servers and APIs for controlling and monitoring robotic systems.\n",
            "\n",
            "Collaborating with robotics engineers to understand system requirements and translating them into backend solutions.\n",
            "\n",
            "Developing robust, scalable, and efficient backend code to ensure high performance and reliability of our robotics control system.\n",
            "\n",
            "Implementing security best practices to safeguard sensitive data and ensure system integrity.\n",
            "\n",
            "Troubleshooting and resolving backend-related issues to maintain system uptime.\n",
            "\n",
            "Continuously improving and optimizing the backend infrastructure to meet evolving project needs.\n",
            "\n",
            "Participating in code reviews and providing mentorship to junior team members.\n",
            "\n",
            "Keeping up-to-date with industry trends and best practices in backend development and robotics technology.\n",
            "\n",
            "\n",
            "\n",
            "\n",
            "Requirements Minimum Qualifications;\n",
            "\n",
            "\n",
            "\n",
            "\n",
            "Bachelor's or higher degree in Computer Science, Software Engineering, or related field.\n",
            "\n",
            "Proven experience as a Backend Software Engineer participating in all stages of feature delivery.\n",
            "\n",
            "Proficiency in Python programming and web frameworks (e.g., Django, FastAPI).\n",
            "\n",
            "Experience with ROS (Robotics Operating System) is a plus but not mandatory; a willingness to learn ROS is essential.\n",
            "\n",
            "Familiarity with database systems (SQL and NoSQL databases).\n",
            "\n",
            "Strong knowledge of RESTful API design principles.\n",
            "\n",
            "Strong communication and teamwork skills.\n",
            "\n",
            "Self-motivated and able to work independently as well as collaboratively in a fast-paced environment.\n"
          ]
        }
      ]
    },
    {
      "cell_type": "code",
      "source": [
        "text=[resume,job]"
      ],
      "metadata": {
        "id": "5FdISs4v97lJ"
      },
      "execution_count": null,
      "outputs": []
    },
    {
      "cell_type": "code",
      "source": [
        "from sklearn.feature_extraction.text import CountVectorizer\n",
        "cv=CountVectorizer()\n",
        "count_matrix=cv.fit_transform(text)"
      ],
      "metadata": {
        "id": "uQbw-To5-BHE"
      },
      "execution_count": null,
      "outputs": []
    },
    {
      "cell_type": "code",
      "source": [
        "from sklearn.metrics.pairwise import cosine_similarity\n",
        "\n",
        "#print similarity score\n",
        "print(\"\\n Similarity Scores:\")\n",
        "print(cosine_similarity(count_matrix))"
      ],
      "metadata": {
        "colab": {
          "base_uri": "https://localhost:8080/"
        },
        "id": "aFAoNGOT-T8w",
        "outputId": "44465a25-f026-419b-a5c9-c253a503374c"
      },
      "execution_count": null,
      "outputs": [
        {
          "output_type": "stream",
          "name": "stdout",
          "text": [
            "\n",
            " Similarity Scores:\n",
            "[[1.         0.04547898]\n",
            " [0.04547898 1.        ]]\n"
          ]
        }
      ]
    },
    {
      "cell_type": "code",
      "source": [
        "matchpercent=cosine_similarity(count_matrix)[0][1]*100\n",
        "matchpercent=round(matchpercent,2)\n",
        "print(\"your resume match about \"+str(matchpercent)+\"% of job description\")"
      ],
      "metadata": {
        "colab": {
          "base_uri": "https://localhost:8080/"
        },
        "id": "gV2345vy-tge",
        "outputId": "43f1717e-6297-406f-dfa9-fc0f47577974"
      },
      "execution_count": null,
      "outputs": [
        {
          "output_type": "stream",
          "name": "stdout",
          "text": [
            "your resume match about 4.55% of job description\n"
          ]
        }
      ]
    }
  ]
}